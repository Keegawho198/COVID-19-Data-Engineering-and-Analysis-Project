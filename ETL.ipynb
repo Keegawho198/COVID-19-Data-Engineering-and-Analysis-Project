{
 "cells": [
  {
   "cell_type": "code",
   "execution_count": null,
   "id": "d3fd429d-19ed-4dd5-9dfc-00c0db790ac9",
   "metadata": {},
   "outputs": [],
   "source": [
    "import pandas as pd\n",
    "import matplotlib.pyplot as plt\n",
    "from pathlib import Path\n",
    "import seaborn as sns\n",
    "from datetime import datetime"
   ]
  },
  {
   "cell_type": "code",
   "execution_count": null,
   "id": "b3007483-8d05-4aa5-b41a-921e577bb5d8",
   "metadata": {},
   "outputs": [],
   "source": [
    "# Define the path for the resources directory \n",
    "path = Path(\"Resources/\")\n",
    "\n",
    "# Load CSV files into pandas DataFrames\n",
    "countries_dataset = pd.read_csv(\"Resources/countries.csv\")\n",
    "covid_cases_dataset = pd.read_csv(\"Resources/WHO COVID-19 cases.csv\")"
   ]
  },
  {
   "cell_type": "code",
   "execution_count": null,
   "id": "6a666e3e-bed7-4961-99a7-33833f6a0a2a",
   "metadata": {},
   "outputs": [],
   "source": [
    "# Rename columns in countries dataset for clarity\n",
    "countries_dataset = countries_dataset.rename(columns={'country':'Country_code', 'name':'Country'})\n",
    "countries_dataset.head()"
   ]
  },
  {
   "cell_type": "code",
   "execution_count": null,
   "id": "6c722a5c-e7fc-4902-ae17-6a9d0ee250d3",
   "metadata": {},
   "outputs": [],
   "source": [
    "# Merge datasets on common column 'Country_code'\n",
    "complete_dataset = pd.merge(covid_cases_dataset, countries_dataset, on=\"Country_code\")\n",
    "complete_dataset.head()"
   ]
  },
  {
   "cell_type": "code",
   "execution_count": null,
   "id": "34af5fcc-2851-4c51-aa20-2e6030bc9bba",
   "metadata": {},
   "outputs": [],
   "source": [
    "# Drop unnecessary column\n",
    "complete_dataset = complete_dataset.drop(columns=[\"Country_y\"])\n",
    "complete_dataset.head()"
   ]
  },
  {
   "cell_type": "code",
   "execution_count": null,
   "id": "22c6e674-5a5f-4811-9e1e-0c36df18f76d",
   "metadata": {},
   "outputs": [],
   "source": [
    "# Rename columns for consistency and clarity\n",
    "complete_dataset = complete_dataset.rename(columns={\n",
    "    \"Date_reported\":\"Date\",\n",
    "    \"Country_code\":\"Country Code\",\n",
    "    \"Country_x\":\"Country\",\n",
    "    \"WHO_region\":\"WHO Region\",\n",
    "    \"New_cases\":\"New Cases\",\n",
    "    \"Cumulative_cases\":\"Cumulative Cases\",\n",
    "    \"New_deaths\":\"New Deaths\",\n",
    "    \"Cumulative_deaths\":\"Cumulative Deaths\",\n",
    "    \"latitude\":\"Latitude\",\n",
    "    \"longitude\":\"Longitude\"\n",
    "})\n",
    "complete_dataset.head()"
   ]
  },
  {
   "cell_type": "code",
   "execution_count": null,
   "id": "f456f1cc-7692-4d94-b0db-0ff3fd9163b3",
   "metadata": {},
   "outputs": [],
   "source": [
    "#identify empty and Nan rows\n",
    "complete_dataset.count()"
   ]
  },
  {
   "cell_type": "code",
   "execution_count": null,
   "id": "a85f8c8a-a40b-45b5-bfa3-f0d960af3932",
   "metadata": {},
   "outputs": [],
   "source": [
    "# Remove duplicate rows and drop rows with any missing values\n",
    "complete_dataset = complete_dataset.drop_duplicates().dropna(how='any')\n",
    "complete_dataset.head()"
   ]
  },
  {
   "cell_type": "code",
   "execution_count": null,
   "id": "fa54fba5-0dc3-44e5-905e-2668a9ce9fc1",
   "metadata": {},
   "outputs": [],
   "source": [
    "# Check if NaN and zero value rows and columns were removed\n",
    "complete_dataset.count()"
   ]
  },
  {
   "cell_type": "code",
   "execution_count": null,
   "id": "731e81b1-98c4-4a70-aadc-f973713adb13",
   "metadata": {},
   "outputs": [],
   "source": [
    "#check the datatypes\n",
    "complete_dataset.dtypes"
   ]
  },
  {
   "cell_type": "code",
   "execution_count": null,
   "id": "194fc801-12ca-4f1b-97a6-9751a00ac4f1",
   "metadata": {},
   "outputs": [],
   "source": [
    "# Change 'Date' column to datetime type\n",
    "complete_dataset['Date'] = pd.to_datetime(complete_dataset['Date'])\n",
    "#check if date datatypes changed\n",
    "complete_dataset.dtypes"
   ]
  },
  {
   "cell_type": "code",
   "execution_count": null,
   "id": "54116095-b3e8-40f5-9cee-1120601a8112",
   "metadata": {},
   "outputs": [],
   "source": [
    "# Aggregation: Group by country with additional statistics\n",
    "country_group_data = complete_dataset.groupby('Country').agg({\n",
    "    'New Cases': ['sum', 'mean', 'std'],\n",
    "    'New Deaths': ['sum', 'mean', 'std']\n",
    "})\n",
    "country_group_data.head()"
   ]
  },
  {
   "cell_type": "code",
   "execution_count": null,
   "id": "bb7a4e1a-cf65-428a-85b2-8b80bb8c3c60",
   "metadata": {},
   "outputs": [],
   "source": [
    "# Use aggregation to find the max, min cases and deaths globally\n",
    "country_stats = complete_dataset.groupby('Country').agg({\n",
    "    'Cumulative Cases': 'max',\n",
    "    'Cumulative Deaths': 'max'\n",
    "}).reset_index()"
   ]
  },
  {
   "cell_type": "code",
   "execution_count": null,
   "id": "cc105b24-b279-494c-99e7-392cbbc5b210",
   "metadata": {},
   "outputs": [],
   "source": [
    "# Find countries with maximum and minimum cases and deaths\n",
    "max_cases_country = country_stats.loc[country_stats['Cumulative Cases'].idxmax()]\n",
    "min_cases_country = country_stats.loc[country_stats['Cumulative Cases'].idxmin()]\n",
    "max_deaths_country = country_stats.loc[country_stats['Cumulative Deaths'].idxmax()]\n",
    "min_deaths_country = country_stats.loc[country_stats['Cumulative Deaths'].idxmin()]\n",
    "\n",
    "# Display results\n",
    "print(\"Country with Maximum Cases:\", max_cases_country)\n",
    "print(\"Country with Minimum Cases:\", min_cases_country)\n",
    "print(\"Country with Maximum Deaths:\", max_deaths_country)\n",
    "print(\"Country with Minimum Deaths:\", min_deaths_country)"
   ]
  },
  {
   "cell_type": "code",
   "execution_count": null,
   "id": "e5ae90f7-31d4-4a4c-812b-a81186be00fc",
   "metadata": {},
   "outputs": [],
   "source": [
    "# Filter data for Australia\n",
    "australia_data = complete_dataset[complete_dataset['Country'] == 'Australia']\n",
    "print(australia_data.head())"
   ]
  },
  {
   "cell_type": "code",
   "execution_count": null,
   "id": "d31127ab-57a8-473b-9723-de61e6757b1e",
   "metadata": {},
   "outputs": [],
   "source": [
    "# Calculate average new cases in Australia\n",
    "average_cases = australia_data['New Cases'].mean()\n",
    "print(f\"Average COVID-19 cases in Australia: {average_cases:.2f}\")"
   ]
  },
  {
   "cell_type": "code",
   "execution_count": null,
   "id": "2275af1c-8db3-45ed-ae99-8377d27e689d",
   "metadata": {},
   "outputs": [],
   "source": [
    "# Find the day with maximum and minimum cases and deaths in Australia\n",
    "max_cases_day = australia_data.loc[australia_data['New Cases'].idxmax()]\n",
    "min_cases_day = australia_data.loc[australia_data['New Cases'].idxmin()]\n",
    "max_deaths_day = australia_data.loc[australia_data['New Deaths'].idxmax()]\n",
    "min_deaths_day = australia_data.loc[australia_data['New Deaths'].idxmin()]\n",
    "\n",
    "# Display results\n",
    "print(f\"Maximum cases: {max_cases_day['New Cases']} on {max_cases_day['Date'].date()}\")\n",
    "print(f\"Minimum cases: {min_cases_day['New Cases']} on {min_cases_day['Date'].date()}\")\n",
    "print(f\"Maximum deaths: {max_deaths_day['New Deaths']} on {max_deaths_day['Date'].date()}\")\n",
    "print(f\"Minimum deaths: {min_deaths_day['New Deaths']} on {min_deaths_day['Date'].date()}\")"
   ]
  },
  {
   "cell_type": "code",
   "execution_count": null,
   "id": "4143baa4-d9fa-43dc-9beb-4113c7232f11",
   "metadata": {},
   "outputs": [],
   "source": [
    "# Summarize data for Australia using pivot_table()\n",
    "pivot_summary = australia_data.pivot_table(\n",
    "    index='Date', values=['New Cases', 'New Deaths'], aggfunc='sum'\n",
    ").astype(int)\n",
    "pivot_summary"
   ]
  },
  {
   "cell_type": "code",
   "execution_count": null,
   "id": "59768ed8-b0ee-4375-a134-9ef43cf435cb",
   "metadata": {},
   "outputs": [],
   "source": [
    "# Visualize pivot table summary\n",
    "pivot_summary.plot(kind='line', figsize=(10, 6), title='New Cases and Deaths Over Time in Australia')\n",
    "plt.xlabel('Date')\n",
    "plt.ylabel('Count')\n",
    "plt.legend(title='Metrics')\n",
    "plt.show()"
   ]
  },
  {
   "cell_type": "code",
   "execution_count": null,
   "id": "a19836a4-6b78-4d1e-b109-0096d15e7e89",
   "metadata": {},
   "outputs": [],
   "source": [
    "# Display ETL results before exporting data\n",
    "complete_dataset.head()"
   ]
  },
  {
   "cell_type": "code",
   "execution_count": null,
   "id": "bd1390f5-70d9-431e-963d-053b885f13ca",
   "metadata": {},
   "outputs": [],
   "source": [
    "# Export complete dataset to CSV\n",
    "complete_dataset.to_csv(\"Resources/complete_dataset.csv\", index=False)"
   ]
  }
 ],
 "metadata": {
  "kernelspec": {
   "display_name": "Python 3",
   "language": "python",
   "name": "python3"
  },
  "language_info": {
   "codemirror_mode": {
    "name": "ipython",
    "version": 3
   },
   "file_extension": ".py",
   "mimetype": "text/x-python",
   "name": "python",
   "nbconvert_exporter": "python",
   "pygments_lexer": "ipython3",
   "version": "3.10.14"
  }
 },
 "nbformat": 4,
 "nbformat_minor": 5
}
